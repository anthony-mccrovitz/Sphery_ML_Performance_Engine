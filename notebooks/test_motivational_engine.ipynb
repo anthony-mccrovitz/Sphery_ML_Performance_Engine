{
 "cells": [
  {
   "cell_type": "code",
   "execution_count": 23,
   "id": "84048fc8",
   "metadata": {},
   "outputs": [],
   "source": [
    "import sys\n",
    "import os\n",
    "sys.path.append(os.path.abspath('src'))"
   ]
  },
  {
   "cell_type": "code",
   "execution_count": 24,
   "id": "63aa8aba",
   "metadata": {},
   "outputs": [],
   "source": [
    "from motivational_engine import MotivationalEngine"
   ]
  },
  {
   "cell_type": "code",
   "execution_count": null,
   "id": "fb7ee83b",
   "metadata": {},
   "outputs": [],
   "source": []
  }
 ],
 "metadata": {
  "kernelspec": {
   "display_name": "sphery_env",
   "language": "python",
   "name": "python3"
  },
  "language_info": {
   "codemirror_mode": {
    "name": "ipython",
    "version": 3
   },
   "file_extension": ".py",
   "mimetype": "text/x-python",
   "name": "python",
   "nbconvert_exporter": "python",
   "pygments_lexer": "ipython3",
   "version": "3.11.3"
  }
 },
 "nbformat": 4,
 "nbformat_minor": 5
}
